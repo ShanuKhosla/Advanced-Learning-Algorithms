{
 "cells": [
  {
   "cell_type": "code",
   "execution_count": 1,
   "id": "46b13926-05a8-4f86-aab5-6a9cdcd02f19",
   "metadata": {},
   "outputs": [
    {
     "name": "stdout",
     "output_type": "stream",
     "text": [
      "\n",
      "Training Architecture 1\n"
     ]
    },
    {
     "name": "stderr",
     "output_type": "stream",
     "text": [
      "C:\\Users\\Shantanu Khosla\\AppData\\Roaming\\Python\\Python310\\site-packages\\keras\\src\\layers\\reshaping\\flatten.py:37: UserWarning: Do not pass an `input_shape`/`input_dim` argument to a layer. When using Sequential models, prefer using an `Input(shape)` object as the first layer in the model instead.\n",
      "  super().__init__(**kwargs)\n"
     ]
    },
    {
     "name": "stdout",
     "output_type": "stream",
     "text": [
      "Architecture 1 Validation Accuracy: 0.9695000052452087\n",
      "\n",
      "Training Architecture 2\n",
      "Architecture 2 Validation Accuracy: 0.972100019454956\n",
      "\n",
      "Training Architecture 3\n",
      "Architecture 3 Validation Accuracy: 0.9724000096321106\n",
      "\n",
      "Best architecture based on validation: 3 (0.9724)\n",
      "Final Test Accuracy (unbiased): 0.9705\n"
     ]
    }
   ],
   "source": [
    "import tensorflow as tf\n",
    "from tensorflow.keras import layers, models\n",
    "from tensorflow.keras.datasets import mnist\n",
    "\n",
    "# --- 1. DATA SPLIT ---\n",
    "(x_train, y_train), (x_test, y_test) = mnist.load_data()\n",
    "x_train = x_train / 255.0\n",
    "x_test = x_test / 255.0\n",
    "\n",
    "# Further split training into train + validation\n",
    "x_train, x_val = x_train[:50000], x_train[50000:]\n",
    "y_train, y_val = y_train[:50000], y_train[50000:]\n",
    "\n",
    "# --- 2. DEFINE THREE DIFFERENT ARCHITECTURES ---\n",
    "def build_model(arch):\n",
    "    if arch == 1:  # simple\n",
    "        model = models.Sequential([\n",
    "            layers.Flatten(input_shape=(28,28)),\n",
    "            layers.Dense(64, activation='relu'),\n",
    "            layers.Dense(10, activation='softmax')\n",
    "        ])\n",
    "    elif arch == 2:  # deeper\n",
    "        model = models.Sequential([\n",
    "            layers.Flatten(input_shape=(28,28)),\n",
    "            layers.Dense(128, activation='relu'),\n",
    "            layers.Dense(64, activation='relu'),\n",
    "            layers.Dense(10, activation='softmax')\n",
    "        ])\n",
    "    elif arch == 3:  # with dropout\n",
    "        model = models.Sequential([\n",
    "            layers.Flatten(input_shape=(28,28)),\n",
    "            layers.Dense(128, activation='relu'),\n",
    "            layers.Dropout(0.5),\n",
    "            layers.Dense(10, activation='softmax')\n",
    "        ])\n",
    "    model.compile(optimizer='adam',\n",
    "                  loss='sparse_categorical_crossentropy',\n",
    "                  metrics=['accuracy'])\n",
    "    return model\n",
    "\n",
    "# --- 3. TRAIN AND EVALUATE ON VALIDATION ---\n",
    "val_scores = []\n",
    "for arch in [1,2,3]:\n",
    "    print(f\"\\nTraining Architecture {arch}\")\n",
    "    model = build_model(arch)\n",
    "    model.fit(x_train, y_train, epochs=5, batch_size=32, verbose=0)\n",
    "    \n",
    "    # Compare using VALIDATION SET\n",
    "    val_loss, val_acc = model.evaluate(x_val, y_val, verbose=0)\n",
    "    print(f\"Architecture {arch} Validation Accuracy: {val_acc}\")\n",
    "    val_scores.append((arch, val_acc, model))\n",
    "\n",
    "# --- 4. SELECT BEST MODEL ---\n",
    "best_arch, best_val_acc, best_model = max(val_scores, key=lambda x: x[1])\n",
    "print(f\"\\nBest architecture based on validation: {best_arch} ({best_val_acc:.4f})\")\n",
    "\n",
    "# --- 5. FINAL TEST ON UNSEEN TEST SET ---\n",
    "test_loss, test_acc = best_model.evaluate(x_test, y_test, verbose=0)\n",
    "print(f\"Final Test Accuracy (unbiased): {test_acc:.4f}\")\n"
   ]
  },
  {
   "cell_type": "code",
   "execution_count": null,
   "id": "2a9ca51c-57f2-405a-bc0d-f758082706c8",
   "metadata": {},
   "outputs": [],
   "source": []
  }
 ],
 "metadata": {
  "kernelspec": {
   "display_name": "Python 3 (ipykernel)",
   "language": "python",
   "name": "python3"
  },
  "language_info": {
   "codemirror_mode": {
    "name": "ipython",
    "version": 3
   },
   "file_extension": ".py",
   "mimetype": "text/x-python",
   "name": "python",
   "nbconvert_exporter": "python",
   "pygments_lexer": "ipython3",
   "version": "3.10.6"
  }
 },
 "nbformat": 4,
 "nbformat_minor": 5
}
